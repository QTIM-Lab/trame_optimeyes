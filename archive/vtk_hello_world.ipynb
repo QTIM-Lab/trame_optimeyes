{
 "cells": [
  {
   "cell_type": "code",
   "execution_count": 2,
   "metadata": {},
   "outputs": [],
   "source": [
    "# This simple example shows how to do basic rendering and pipeline\n",
    "# creation.\n",
    "\n",
    "# noinspection PyUnresolvedReferences\n",
    "import vtkmodules.vtkInteractionStyle\n",
    "# noinspection PyUnresolvedReferences\n",
    "import vtkmodules.vtkRenderingOpenGL2\n",
    "from vtkmodules.vtkCommonColor import vtkNamedColors\n",
    "from vtkmodules.vtkFiltersSources import vtkCylinderSource\n",
    "from vtkmodules.vtkRenderingCore import (\n",
    "    vtkActor,\n",
    "    vtkPolyDataMapper,\n",
    "    vtkRenderWindow,\n",
    "    vtkRenderWindowInteractor,\n",
    "    vtkRenderer\n",
    ")\n",
    "\n"
   ]
  },
  {
   "cell_type": "code",
   "execution_count": 3,
   "metadata": {},
   "outputs": [],
   "source": [
    "def main():\n",
    "    colors = vtkNamedColors()\n",
    "    # Set the background color.\n",
    "    bkg = map(lambda x: x / 255.0, [26, 51, 102, 255])\n",
    "    colors.SetColor(\"BkgColor\", *bkg)\n",
    "\n",
    "    # This creates a polygonal cylinder model with eight circumferential\n",
    "    # facets.\n",
    "    cylinder = vtkCylinderSource()\n",
    "    cylinder.SetResolution(8)\n",
    "\n",
    "    # The mapper is responsible for pushing the geometry into the graphics\n",
    "    # library. It may also do color mapping, if scalars or other\n",
    "    # attributes are defined.\n",
    "    cylinderMapper = vtkPolyDataMapper()\n",
    "    cylinderMapper.SetInputConnection(cylinder.GetOutputPort())\n",
    "\n",
    "    # The actor is a grouping mechanism: besides the geometry (mapper), it\n",
    "    # also has a property, transformation matrix, and/or texture map.\n",
    "    # Here we set its color and rotate it -22.5 degrees.\n",
    "    cylinderActor = vtkActor()\n",
    "    cylinderActor.SetMapper(cylinderMapper)\n",
    "    cylinderActor.GetProperty().SetColor(colors.GetColor3d(\"Tomato\"))\n",
    "    cylinderActor.RotateX(0.0)\n",
    "    cylinderActor.RotateY(-45.0)\n",
    "\n",
    "    # Create the graphics structure. The renderer renders into the render\n",
    "    # window. The render window interactor captures mouse events and will\n",
    "    # perform appropriate camera or actor manipulation depending on the\n",
    "    # nature of the events.\n",
    "    ren = vtkRenderer()\n",
    "    renWin = vtkRenderWindow()\n",
    "    renWin.AddRenderer(ren)\n",
    "    iren = vtkRenderWindowInteractor()\n",
    "    iren.SetRenderWindow(renWin)\n",
    "\n",
    "    # Add the actors to the renderer, set the background and size\n",
    "    ren.AddActor(cylinderActor)\n",
    "    ren.SetBackground(colors.GetColor3d(\"BkgColor\"))\n",
    "    renWin.SetSize(600, 600)\n",
    "    renWin.SetWindowName('CylinderExample')\n",
    "\n",
    "    # This allows the interactor to initalize itself. It has to be\n",
    "    # called before an event loop.\n",
    "    iren.Initialize()\n",
    "\n",
    "    # We'll zoom in a little by accessing the camera and invoking a \"Zoom\"\n",
    "    # method on it.\n",
    "    ren.ResetCamera()\n",
    "    ren.GetActiveCamera().Zoom(1.5)\n",
    "    renWin.Render()\n",
    "\n",
    "    # Start the event loop.\n",
    "    iren.Start()\n",
    "\n",
    "\n",
    "if __name__ == '__main__':\n",
    "    main()"
   ]
  },
  {
   "cell_type": "code",
   "execution_count": 4,
   "metadata": {},
   "outputs": [
    {
     "data": {
      "text/plain": [
       "vtkmodules.vtkIOImage.vtkJPEGReader"
      ]
     },
     "execution_count": 4,
     "metadata": {},
     "output_type": "execute_result"
    }
   ],
   "source": []
  },
  {
   "cell_type": "code",
   "execution_count": 5,
   "metadata": {},
   "outputs": [
    {
     "data": {
      "text/plain": [
       "vtkmodules.vtkIOImage.vtkImageReader2"
      ]
     },
     "execution_count": 5,
     "metadata": {},
     "output_type": "execute_result"
    }
   ],
   "source": []
  },
  {
   "cell_type": "code",
   "execution_count": 6,
   "metadata": {},
   "outputs": [
    {
     "ename": "TypeError",
     "evalue": "unbound method requires a vtkmodules.vtkIOImage.vtkImageReader2 as the first argument",
     "output_type": "error",
     "traceback": [
      "\u001b[0;31m---------------------------------------------------------------------------\u001b[0m",
      "\u001b[0;31mTypeError\u001b[0m                                 Traceback (most recent call last)",
      "Cell \u001b[0;32mIn[6], line 2\u001b[0m\n\u001b[1;32m      1\u001b[0m jpgReader \u001b[39m=\u001b[39m vtk\u001b[39m.\u001b[39mvtkJPEGReader\n\u001b[0;32m----> 2\u001b[0m jpgReader\u001b[39m.\u001b[39;49mSetFileName(image)\n\u001b[1;32m      3\u001b[0m jpgReader\u001b[39m.\u001b[39mSetFileName(vtkIOImage\u001b[39m.\u001b[39mvtkImageReader2, image)\n",
      "\u001b[0;31mTypeError\u001b[0m: unbound method requires a vtkmodules.vtkIOImage.vtkImageReader2 as the first argument"
     ]
    }
   ],
   "source": []
  }
 ],
 "metadata": {
  "kernelspec": {
   "display_name": "Python 3.10.6 ('trame-qQhQzJbP-trame')",
   "language": "python",
   "name": "python3"
  },
  "language_info": {
   "codemirror_mode": {
    "name": "ipython",
    "version": 3
   },
   "file_extension": ".py",
   "mimetype": "text/x-python",
   "name": "python",
   "nbconvert_exporter": "python",
   "pygments_lexer": "ipython3",
   "version": "3.10.6"
  },
  "orig_nbformat": 4,
  "vscode": {
   "interpreter": {
    "hash": "88082947ae7b4020b4f98f3c764c73296c4aea9e7aac893bf5faf1f8ac36a641"
   }
  }
 },
 "nbformat": 4,
 "nbformat_minor": 2
}
