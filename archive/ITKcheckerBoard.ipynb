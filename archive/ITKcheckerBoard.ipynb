{
 "cells": [
  {
   "cell_type": "code",
   "execution_count": 1,
   "metadata": {
    "tags": []
   },
   "outputs": [
    {
     "data": {
      "text/plain": [
       "vtkmodules.vtkInteractionImage.vtkImageViewer2"
      ]
     },
     "execution_count": 1,
     "metadata": {},
     "output_type": "execute_result"
    }
   ],
   "source": [
    "import os\n",
    "\n",
    "import itk\n",
    "\n",
    "import vtk\n",
    "# Attempt with https://kitware.github.io/vtk-examples/site/Java/IO/JPEGReader/\n",
    "# vtk.vtkNativeLibrary # Didn't work, but maybe we don't need\n",
    "vtk.vtkRenderWindowInteractor\n",
    "vtk.vtkNamedColors\n",
    "vtk.vtkImageViewer2"
   ]
  },
  {
   "cell_type": "code",
   "execution_count": 2,
   "metadata": {
    "tags": []
   },
   "outputs": [],
   "source": [
    "images_path = \"images\"\n",
    "os.listdir(images_path)\n",
    "image1_name = os.path.join(images_path, \"JPEGReader_1.png\")\n",
    "image2_name = os.path.join(images_path, \"JPEGReader_2.png\")"
   ]
  },
  {
   "cell_type": "code",
   "execution_count": 3,
   "metadata": {
    "tags": []
   },
   "outputs": [],
   "source": [
    "# Read Images\n",
    "image1 = itk.imread(image1_name)\n",
    "image2 = itk.imread(image2_name)"
   ]
  },
  {
   "cell_type": "code",
   "execution_count": 4,
   "metadata": {
    "tags": []
   },
   "outputs": [],
   "source": [
    "image_checkerboard = itk.checker_board_image_filter(Input1=image1, Input2=image2, CheckerPattern=[4,6])"
   ]
  },
  {
   "cell_type": "code",
   "execution_count": 5,
   "metadata": {
    "tags": []
   },
   "outputs": [],
   "source": [
    "image_checkerboard_vtk = itk.vtk_image_from_image(image_checkerboard)"
   ]
  },
  {
   "cell_type": "code",
   "execution_count": 6,
   "metadata": {
    "tags": []
   },
   "outputs": [],
   "source": [
    "# The following is python transcribed from java code almost exactly\n",
    "# Colors\n",
    "colors = vtk.vtkNamedColors()\n",
    "# Visualize\n",
    "imageViewer2 = vtk.vtkImageViewer2()\n",
    "imageViewer2.SetInputData(image_checkerboard_vtk)\n",
    "renderWindowInteractor = vtk.vtkRenderWindowInteractor()\n",
    "imageViewer2.SetupInteractor(renderWindowInteractor)\n",
    "imageViewer2.Render()\n",
    "imageViewer2.GetRenderer().ResetCamera()\n",
    "imageViewer2.GetRenderer().SetBackground(colors.GetColor3d(\"DarkSlateGray\"))\n",
    "imageViewer2.GetRenderWindow().SetWindowName(\"ITKCheckerboard\")\n",
    "imageViewer2.Render()\n",
    "renderWindowInteractor.Start()"
   ]
  },
  {
   "cell_type": "code",
   "execution_count": null,
   "metadata": {},
   "outputs": [],
   "source": []
  }
 ],
 "metadata": {
  "kernelspec": {
   "display_name": "Python 3 (ipykernel)",
   "language": "python",
   "name": "python3"
  },
  "language_info": {
   "codemirror_mode": {
    "name": "ipython",
    "version": 3
   },
   "file_extension": ".py",
   "mimetype": "text/x-python",
   "name": "python",
   "nbconvert_exporter": "python",
   "pygments_lexer": "ipython3",
   "version": "3.10.6"
  },
  "vscode": {
   "interpreter": {
    "hash": "88082947ae7b4020b4f98f3c764c73296c4aea9e7aac893bf5faf1f8ac36a641"
   }
  },
  "widgets": {
   "application/vnd.jupyter.widget-state+json": {
    "state": {},
    "version_major": 2,
    "version_minor": 0
   }
  }
 },
 "nbformat": 4,
 "nbformat_minor": 4
}
