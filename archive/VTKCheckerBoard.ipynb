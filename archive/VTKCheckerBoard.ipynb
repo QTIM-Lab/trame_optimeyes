{
 "cells": [
  {
   "cell_type": "code",
   "execution_count": 7,
   "metadata": {
    "tags": []
   },
   "outputs": [
    {
     "data": {
      "text/plain": [
       "vtkmodules.vtkInteractionImage.vtkImageViewer2"
      ]
     },
     "execution_count": 7,
     "metadata": {},
     "output_type": "execute_result"
    }
   ],
   "source": [
    "import os\n",
    "\n",
    "import itk\n",
    "\n",
    "import vtk\n",
    "# Attempt with https://kitware.github.io/vtk-examples/site/Java/IO/JPEGReader/\n",
    "# vtk.vtkNativeLibrary # Didn't work, but maybe we don't need\n",
    "vtk.vtkRenderWindowInteractor\n",
    "vtk.vtkNamedColors\n",
    "vtk.vtkImageViewer2"
   ]
  },
  {
   "cell_type": "code",
   "execution_count": 8,
   "metadata": {
    "tags": []
   },
   "outputs": [],
   "source": [
    "images_path = \"images\"\n",
    "os.listdir(images_path)\n",
    "image1_name = os.path.join(images_path, \"JPEGReader_1.png\")\n",
    "image2_name = os.path.join(images_path, \"JPEGReader_2.png\")"
   ]
  },
  {
   "cell_type": "code",
   "execution_count": 9,
   "metadata": {
    "tags": []
   },
   "outputs": [],
   "source": [
    "# Read Images\n",
    "image1 = itk.imread(image1_name)\n",
    "image2 = itk.imread(image2_name)\n",
    "\n",
    "image1_vtk = itk.vtk_image_from_image(image1)\n",
    "image2_vtk = itk.vtk_image_from_image(image2)"
   ]
  },
  {
   "cell_type": "code",
   "execution_count": null,
   "metadata": {},
   "outputs": [
    {
     "ename": "",
     "evalue": "",
     "output_type": "error",
     "traceback": [
      "\u001b[1;31mCanceled future for execute_request message before replies were done"
     ]
    },
    {
     "ename": "",
     "evalue": "",
     "output_type": "error",
     "traceback": [
      "\u001b[1;31mThe Kernel crashed while executing code in the the current cell or a previous cell. Please review the code in the cell(s) to identify a possible cause of the failure. Click <a href='https://aka.ms/vscodeJupyterKernelCrash'>here</a> for more info. View Jupyter <a href='command:jupyter.viewOutput'>log</a> for further details."
     ]
    }
   ],
   "source": [
    "checker = vtk.vtkImageCheckerboard()\n",
    "checker.SetInputData(0, image1_vtk)\n",
    "checker.SetInputData(1, image2_vtk)\n",
    "checker.SetNumberOfDivisions(3,3,1)\n",
    "\n",
    "checkerActor = vtk.vtkImageActor()\n",
    "checkerActor.GetMapper().SetInputConnection(checker.GetOutputPort())\n",
    "\n",
    "viewer = vtk.vtkImageViewer2()\n",
    "viewer.SetInputConnection(checker.GetOutputPort())\n",
    "\n",
    "interactor = vtk.vtkRenderWindowInteractor()\n",
    "viewer.SetupInteractor(interactor)\n",
    "\n",
    "checkerWidget = vtk.vtkCheckerboardWidget()\n",
    "checkerWidget.SetInteractor(interactor)\n",
    "\n",
    "checkerRep = checkerWidget.GetRepresentation()\n",
    "checkerRep.SetImageActor(checkerActor)\n",
    "checkerRep.SetCheckerboard(checker)\n",
    "\n",
    "viewer.GetRenderer().AddActor(checkerActor)\n",
    "\n",
    "viewer.Render()\n",
    "checkerWidget.On()\n",
    "interactor.Start()"
   ]
  },
  {
   "cell_type": "code",
   "execution_count": null,
   "metadata": {},
   "outputs": [],
   "source": []
  },
  {
   "cell_type": "code",
   "execution_count": null,
   "metadata": {},
   "outputs": [],
   "source": []
  }
 ],
 "metadata": {
  "kernelspec": {
   "display_name": "Python 3 (ipykernel)",
   "language": "python",
   "name": "python3"
  },
  "language_info": {
   "codemirror_mode": {
    "name": "ipython",
    "version": 3
   },
   "file_extension": ".py",
   "mimetype": "text/x-python",
   "name": "python",
   "nbconvert_exporter": "python",
   "pygments_lexer": "ipython3",
   "version": "3.10.6"
  },
  "vscode": {
   "interpreter": {
    "hash": "88082947ae7b4020b4f98f3c764c73296c4aea9e7aac893bf5faf1f8ac36a641"
   }
  },
  "widgets": {
   "application/vnd.jupyter.widget-state+json": {
    "state": {},
    "version_major": 2,
    "version_minor": 0
   }
  }
 },
 "nbformat": 4,
 "nbformat_minor": 4
}
