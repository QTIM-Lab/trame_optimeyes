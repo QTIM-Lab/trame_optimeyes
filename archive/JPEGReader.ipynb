{
 "cells": [
  {
   "cell_type": "code",
   "execution_count": 1,
   "metadata": {},
   "outputs": [
    {
     "data": {
      "text/plain": [
       "vtkmodules.vtkInteractionImage.vtkImageViewer2"
      ]
     },
     "execution_count": 1,
     "metadata": {},
     "output_type": "execute_result"
    }
   ],
   "source": [
    "import os, vtk\n",
    "# Attempt with https://kitware.github.io/vtk-examples/site/Java/IO/JPEGReader/\n",
    "# vtk.vtkNativeLibrary # Didn't work, but maybe we don't need\n",
    "vtk.vtkRenderWindowInteractor\n",
    "# vtk.vtkImageReader2 # Need but we have already from vtk.vtkJPEGReader via inheritance\n",
    "vtk.vtkJPEGReader # inherits from vtk.vtkImageReader2\n",
    "vtk.vtkNamedColors\n",
    "vtk.vtkImageViewer2"
   ]
  },
  {
   "cell_type": "code",
   "execution_count": 2,
   "metadata": {},
   "outputs": [],
   "source": [
    "images_path = \"images\"\n",
    "os.listdir(images_path)\n",
    "image = os.path.join(images_path, \"MRN 803567 2_aff_registered.jpg\")"
   ]
  },
  {
   "cell_type": "code",
   "execution_count": 3,
   "metadata": {},
   "outputs": [],
   "source": [
    "# The following is python transcribed from java code almost exactly\n",
    "# Colors\n",
    "colors = vtk.vtkNamedColors()"
   ]
  },
  {
   "cell_type": "code",
   "execution_count": 4,
   "metadata": {},
   "outputs": [],
   "source": [
    "# Read Image\n",
    "jpegReader = vtk.vtkJPEGReader()\n",
    "jpegReader.SetFileName(image)"
   ]
  },
  {
   "cell_type": "code",
   "execution_count": 5,
   "metadata": {},
   "outputs": [],
   "source": [
    "# Visualize\n",
    "imageViewer2 = vtk.vtkImageViewer2()\n",
    "imageViewer2.SetInputConnection(jpegReader.GetOutputPort())\n",
    "renderWindowInteractor = vtk.vtkRenderWindowInteractor()\n",
    "imageViewer2.SetupInteractor(renderWindowInteractor)\n",
    "imageViewer2.Render()\n",
    "imageViewer2.GetRenderer().ResetCamera()\n",
    "imageViewer2.GetRenderer().SetBackground(colors.GetColor3d(\"DarkSlateGray\"))\n",
    "imageViewer2.GetRenderWindow().SetWindowName(\"JPEGReader\")\n",
    "imageViewer2.Render()\n",
    "renderWindowInteractor.Start()"
   ]
  },
  {
   "cell_type": "code",
   "execution_count": null,
   "metadata": {},
   "outputs": [],
   "source": []
  }
 ],
 "metadata": {
  "kernelspec": {
   "display_name": "Python 3.10.6 ('trame-qQhQzJbP-trame')",
   "language": "python",
   "name": "python3"
  },
  "language_info": {
   "codemirror_mode": {
    "name": "ipython",
    "version": 3
   },
   "file_extension": ".py",
   "mimetype": "text/x-python",
   "name": "python",
   "nbconvert_exporter": "python",
   "pygments_lexer": "ipython3",
   "version": "3.10.6"
  },
  "orig_nbformat": 4,
  "vscode": {
   "interpreter": {
    "hash": "88082947ae7b4020b4f98f3c764c73296c4aea9e7aac893bf5faf1f8ac36a641"
   }
  }
 },
 "nbformat": 4,
 "nbformat_minor": 2
}
